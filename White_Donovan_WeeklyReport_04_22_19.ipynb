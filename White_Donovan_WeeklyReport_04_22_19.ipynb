{
 "cells": [
  {
   "cell_type": "markdown",
   "metadata": {},
   "source": [
    "### Donovan White\n",
    "### Undergraduate Research\n",
    "### Weekly Report\n",
    "### April 22nd, 2019"
   ]
  },
  {
   "cell_type": "markdown",
   "metadata": {},
   "source": [
    "## Introduction"
   ]
  },
  {
   "cell_type": "markdown",
   "metadata": {},
   "source": [
    "The goal of this week's research were:\n",
    "1. Go through orders\n",
    "2. Solder Connections\n",
    "3. Clean lab\n",
    "4. Cryostat Assembly\n",
    "5. Munster Differential Pressure Sensor\n",
    "\n",
    "Progress was made this week in completion of soldering, sorting through of orders,cleaning and mopping the lab, and the beginning of cryostat assembly."
   ]
  },
  {
   "cell_type": "markdown",
   "metadata": {},
   "source": [
    "## Results"
   ]
  },
  {
   "cell_type": "markdown",
   "metadata": {},
   "source": [
    "# 1. Orders"
   ]
  },
  {
   "cell_type": "markdown",
   "metadata": {},
   "source": [
    "![alt text](IMG_5234.JPG \"\")"
   ]
  },
  {
   "cell_type": "markdown",
   "metadata": {},
   "source": [
    "### FIG 1    \n",
    "Circular solder cup connector arrived for top flange freedthrough and works perfectly."
   ]
  },
  {
   "cell_type": "markdown",
   "metadata": {},
   "source": [
    "![alt text](IMG_5236.JPG \"\")"
   ]
  },
  {
   "cell_type": "markdown",
   "metadata": {},
   "source": [
    "### FIG 2    \n",
    "Ultra Low Profile Bolts arrived from McMaster.  Were too long but was able to cut down to size easily and use to mound coldhead to top flane succesfully."
   ]
  },
  {
   "cell_type": "markdown",
   "metadata": {},
   "source": [
    "Also batteries arrived for digital caliper, put extras in battery drawer and then repowered the caliper. Also solder tips and 50 Ohm wire arrived."
   ]
  },
  {
   "cell_type": "markdown",
   "metadata": {},
   "source": [
    "# 2. Solder connections"
   ]
  },
  {
   "cell_type": "markdown",
   "metadata": {},
   "source": [
    "![alt text](IMG_5240.JPG \"\")"
   ]
  },
  {
   "cell_type": "markdown",
   "metadata": {},
   "source": [
    "### FIG 3    \n",
    "Soldered connections from coldfinger to the  inner solder cup of feedthrough.  We also were able to register a 10.76 V readout across the current inputs fro the heat controller.  Ready to connect feedthrough to heat controller and pump down to vacuum and run heater tests."
   ]
  },
  {
   "cell_type": "markdown",
   "metadata": {},
   "source": [
    "# 3. Cryostat Assembly"
   ]
  },
  {
   "cell_type": "markdown",
   "metadata": {},
   "source": [
    "Now assembling cryostat fro heater tests.  What components should be assembled of inner cryostat for heater tests.\n",
    "*  Copper tubing and flanges\n",
    "*  Inner cryostat components (chamber and level meter)\n",
    "*  RTD sensors\n",
    "*  other?"
   ]
  },
  {
   "cell_type": "markdown",
   "metadata": {},
   "source": [
    "# 4. Cleaning lab"
   ]
  },
  {
   "cell_type": "markdown",
   "metadata": {},
   "source": [
    "Lab was cleaned and we got a mop from the janitor and cleaned the backroom and main room floors. Broke down boxes and brought to dumpster.  Helped Forrest bring Metal across campus and up to the lab."
   ]
  },
  {
   "cell_type": "markdown",
   "metadata": {},
   "source": [
    "# 5. Pressure Transducer"
   ]
  },
  {
   "cell_type": "markdown",
   "metadata": {},
   "source": [
    "Got response from Munster.  Part they referred me to can measure our desired range and also has VCR connections.  Refer to weekly report page for datasheet."
   ]
  },
  {
   "cell_type": "markdown",
   "metadata": {},
   "source": [
    "## Next Steps\n",
    "1. Aquire quote for Differential Pressure sensor.\n",
    "2. Finish Assembly and solder connections for heater test; reconnect assembly to turbo pump.\n",
    "3. Bend copper tubing, aquire remachined inner cryostat pieces.\n",
    "4. Run heater tests."
   ]
  }
 ],
 "metadata": {
  "kernelspec": {
   "display_name": "Python 3",
   "language": "python",
   "name": "python3"
  },
  "language_info": {
   "codemirror_mode": {
    "name": "ipython",
    "version": 3
   },
   "file_extension": ".py",
   "mimetype": "text/x-python",
   "name": "python",
   "nbconvert_exporter": "python",
   "pygments_lexer": "ipython3",
   "version": "3.6.3"
  }
 },
 "nbformat": 4,
 "nbformat_minor": 2
}
