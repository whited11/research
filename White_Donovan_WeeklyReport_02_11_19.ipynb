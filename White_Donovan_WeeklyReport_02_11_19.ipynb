{
 "cells": [
  {
   "cell_type": "markdown",
   "metadata": {},
   "source": [
    "### Donovan White\n",
    "### Undergraduate Research\n",
    "### Weekly Report\n",
    "### February 11th, 2019"
   ]
  },
  {
   "cell_type": "markdown",
   "metadata": {},
   "source": [
    "## Introduction"
   ]
  },
  {
   "cell_type": "markdown",
   "metadata": {},
   "source": [
    "The goal of this week's research were:\n",
    "1. Parts orders\n",
    "2. Contact RMC cryosystems\n",
    "3. Follow up for wall powerline install\n",
    "\n",
    "Progress was made in completion of all parts orders for cryostat (temperatur sensors for both inner and outer of cryostat, mcmaster bolts and screw remover, differential pressure gauge, pressure transducers, cf16 feedthrough, rmc solder connector, femal sub c connector, and kapton coated 50 Ohm vacuum wire).  Unsure of pressure sensors.  Email was sent to RMC cryosystems, and the powerline must still be installed. Parts Orders were emailed to Professor Brown Wednesday night."
   ]
  },
  {
   "cell_type": "markdown",
   "metadata": {},
   "source": [
    "## Results"
   ]
  },
  {
   "cell_type": "markdown",
   "metadata": {},
   "source": [
    "# 1. Parts Orders"
   ]
  },
  {
   "cell_type": "markdown",
   "metadata": {},
   "source": [
    "![alt text](mcmaster.PNG \"\")"
   ]
  },
  {
   "cell_type": "markdown",
   "metadata": {},
   "source": [
    "### FIG 1      \n",
    "McMaster order for low profile bolts and regular hex bolts to mount coldhead as well as screw remover."
   ]
  },
  {
   "cell_type": "markdown",
   "metadata": {},
   "source": [
    "![alt text](lesker.PNG \"\")"
   ]
  },
  {
   "cell_type": "markdown",
   "metadata": {},
   "source": [
    "### FIG 2      \n",
    "Order for CF16 electrical feedthrough with nine pins and ground, and 79 inches of Kapton coated 50 Ohm Coax vacuum wire.   Good to - 200 C, with a 0.091 outer diameter, 0.016(26 AWG) wire."
   ]
  },
  {
   "cell_type": "markdown",
   "metadata": {},
   "source": [
    "![alt text](pins.PNG \"\")"
   ]
  },
  {
   "cell_type": "markdown",
   "metadata": {},
   "source": [
    "### FIG 3      \n",
    "Schematic of CF16 electrical feedthrough."
   ]
  },
  {
   "cell_type": "markdown",
   "metadata": {},
   "source": [
    "![alt text](digikey.PNG \"\")"
   ]
  },
  {
   "cell_type": "markdown",
   "metadata": {},
   "source": [
    "### FIG 4      \n",
    "RTD temperature sensors.  One with heat sink for going on copper piece, and two free floating for inner cryostat.  Refer to Bud for specs."
   ]
  },
  {
   "cell_type": "markdown",
   "metadata": {},
   "source": [
    "![alt text](mouser.PNG \"\")"
   ]
  },
  {
   "cell_type": "markdown",
   "metadata": {},
   "source": [
    "### FIG 5      \n",
    "sub C solder female connector for top flange vacuum feedthrough, solder connector for RMC controller, and potential pressure transducers for 0 to 10 bar."
   ]
  },
  {
   "cell_type": "markdown",
   "metadata": {},
   "source": [
    "![alt text](dwyer.PNG \"\")"
   ]
  },
  {
   "cell_type": "markdown",
   "metadata": {},
   "source": [
    "### FIG 6      \n",
    "Calculated to see a change in height of mm, there would be a change of pressure of 30 pascals.  With 10 cm total height, measured outfor 3 kpa.  Need to double check."
   ]
  },
  {
   "cell_type": "markdown",
   "metadata": {},
   "source": [
    "# 2. RMC cryosystems"
   ]
  },
  {
   "cell_type": "markdown",
   "metadata": {},
   "source": [
    "Bud sent email and copied me on it. Asked for any infoirmation or manuals on rmc controller pin out and coldhead power.\n",
    "Waiting for response. Sent on 6th."
   ]
  },
  {
   "cell_type": "markdown",
   "metadata": {},
   "source": [
    "# 3. Powerline Install"
   ]
  },
  {
   "cell_type": "markdown",
   "metadata": {},
   "source": [
    "Waiting for response"
   ]
  },
  {
   "cell_type": "markdown",
   "metadata": {},
   "source": [
    "## Next Steps\n",
    "1. Follow up on powerline install.\n",
    "2. Follow up on RMC cryosystems (or probe and test ourselves)\n",
    "3. Order parts"
   ]
  }
 ],
 "metadata": {
  "kernelspec": {
   "display_name": "Python 3",
   "language": "python",
   "name": "python3"
  },
  "language_info": {
   "codemirror_mode": {
    "name": "ipython",
    "version": 3
   },
   "file_extension": ".py",
   "mimetype": "text/x-python",
   "name": "python",
   "nbconvert_exporter": "python",
   "pygments_lexer": "ipython3",
   "version": "3.6.3"
  }
 },
 "nbformat": 4,
 "nbformat_minor": 2
}
