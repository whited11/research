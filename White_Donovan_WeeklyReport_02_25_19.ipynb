{
 "cells": [
  {
   "cell_type": "markdown",
   "metadata": {},
   "source": [
    "### Donovan White\n",
    "### Undergraduate Research\n",
    "### Weekly Report\n",
    "### February 11th, 2019"
   ]
  },
  {
   "cell_type": "markdown",
   "metadata": {},
   "source": [
    "## Introduction"
   ]
  },
  {
   "cell_type": "markdown",
   "metadata": {},
   "source": [
    "The goal of this week's research were:\n",
    "1. Female feedthrough plug order\n",
    "2. Kapton wire price request\n",
    "3. Swagelok Pressure Transducers\n",
    "4. Heat controller tests\n",
    "5. RMC follow up\n",
    "\n",
    "Progress was made in completion of search for female feedthrough plug.  More research was done for wire pricing, and swagelok was contacted about the pressure trandsducers.  Progress was made in testing out the heat controller."
   ]
  },
  {
   "cell_type": "markdown",
   "metadata": {},
   "source": [
    "## Results"
   ]
  },
  {
   "cell_type": "markdown",
   "metadata": {},
   "source": [
    "# 1. Female Feedthrough Plug"
   ]
  },
  {
   "cell_type": "markdown",
   "metadata": {},
   "source": [
    "![alt text](mouser.PNG \"\")"
   ]
  },
  {
   "cell_type": "markdown",
   "metadata": {},
   "source": [
    "### FIG 1     \n",
    "sub C solder female connector for top flange vacuum feedthrough, solder connector for RMC controller.  This is the proper connection for the feedthrough (size 12 shell, 10 pin layout female socket plug with soldering termination)."
   ]
  },
  {
   "cell_type": "markdown",
   "metadata": {},
   "source": [
    "# 2. Kapton Wire"
   ]
  },
  {
   "cell_type": "markdown",
   "metadata": {},
   "source": [
    "Checked agin on Lesker, and price for Kapton Coated Coax Multistrand vacuum wire in size 79 inches still listed as price on request.  Lesker will contact and give price upon placing of the order and will ask for confirmation of the then finalized order."
   ]
  },
  {
   "cell_type": "markdown",
   "metadata": {},
   "source": [
    "Upon reviewing the catalog the 39 inch length is listed at 52.00 dollars and the 197 inch length is listed at 195.00 dollars. Therefore the 79 inch length will be approximately 100.00 dollars. "
   ]
  },
  {
   "cell_type": "markdown",
   "metadata": {},
   "source": [
    "![alt text](lesker.PNG \"\")"
   ]
  },
  {
   "cell_type": "markdown",
   "metadata": {},
   "source": [
    "### FIG 2      \n",
    "Order from Lesker for CF16 feedthrough and 50 ohm Vacuum wire."
   ]
  },
  {
   "cell_type": "markdown",
   "metadata": {},
   "source": [
    "# 3. Pressure Transducers"
   ]
  },
  {
   "cell_type": "markdown",
   "metadata": {},
   "source": [
    "Contacted both swagelok site and swagelok in Albany for a quote on two of their pressure transducers.\n",
    "\n",
    "Forwarded email response with two datasheets of transducers that match our specification but have 1/4 inch VCR connections.  Can send back which one we want a quote for."
   ]
  },
  {
   "cell_type": "markdown",
   "metadata": {},
   "source": [
    "![alt text](option1.png \"\")"
   ]
  },
  {
   "cell_type": "markdown",
   "metadata": {},
   "source": [
    "![alt text](option2.png \"\")"
   ]
  },
  {
   "cell_type": "markdown",
   "metadata": {},
   "source": [
    "# 4. Heat Controller Tests"
   ]
  },
  {
   "cell_type": "markdown",
   "metadata": {},
   "source": [
    "Managed to turn on Heat controller, and test heater output.  The heater outputs a constant 52 Volts across all settings.  The Current on High is ~1 A, on Medium ~.3 A, and on Low ~.1 A\n",
    "\n",
    "Still attempting to connect silicon dioide temperature sensor from coldfinger to the sensor inputs and try and get a reading.  Unable to determine pinout by probing with digital multimeter so far.\n",
    "\n",
    "Connected Heater on coldfinger to Heat controller and succesfully powered the heater.  Heater quickly became hot to the touch on High setting."
   ]
  },
  {
   "cell_type": "markdown",
   "metadata": {},
   "source": [
    "# 5. RMC followup"
   ]
  },
  {
   "cell_type": "markdown",
   "metadata": {},
   "source": [
    "Recived lots of information from Janis Engineering, who took over from RMC.  Will use this information in lab this week to try and get sensor inputs functioning on heat controller."
   ]
  },
  {
   "cell_type": "markdown",
   "metadata": {},
   "source": [
    "## Next Steps\n",
    "1. Place parts orders on wiki.\n",
    "2. Request formal quote from swagelok\n",
    "3. Test heat controller sensor inputs"
   ]
  }
 ],
 "metadata": {
  "kernelspec": {
   "display_name": "Python 3",
   "language": "python",
   "name": "python3"
  },
  "language_info": {
   "codemirror_mode": {
    "name": "ipython",
    "version": 3
   },
   "file_extension": ".py",
   "mimetype": "text/x-python",
   "name": "python",
   "nbconvert_exporter": "python",
   "pygments_lexer": "ipython3",
   "version": "3.6.3"
  }
 },
 "nbformat": 4,
 "nbformat_minor": 2
}
