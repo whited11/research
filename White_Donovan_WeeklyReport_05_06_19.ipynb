{
 "cells": [
  {
   "cell_type": "markdown",
   "metadata": {},
   "source": [
    "### Donovan White\n",
    "### Undergraduate Research\n",
    "### Weekly Report\n",
    "### May 6th, 2019"
   ]
  },
  {
   "cell_type": "markdown",
   "metadata": {},
   "source": [
    "## Introduction"
   ]
  },
  {
   "cell_type": "markdown",
   "metadata": {},
   "source": [
    "The goal of this week's research were:\n",
    "1. Finish soldering connections using shrink tape this time.\n",
    "2. Build Manifold to support cryostat chamber.\n",
    "3. Connect chamber to Turbo, and pump down to vacuum.\n",
    "4. Run Helium Leak Test.\n",
    "5. Run helium lines and attempt Heater Cool Down Test.\n",
    "6. Munster Differential Pressure Sensor and connectors.\n",
    "\n",
    "Progress was made this week in completion of soldering and using shrink tape and heat gun to secure connections, use of the drill press to build manifold using AI profile, vacuum and leak testing of chamber, testing of heat controller, and aquisition of quotes for the final sensors for measurements by the inner cryostat."
   ]
  },
  {
   "cell_type": "markdown",
   "metadata": {},
   "source": [
    "## Results"
   ]
  },
  {
   "cell_type": "markdown",
   "metadata": {},
   "source": [
    "# 1. Soldering"
   ]
  },
  {
   "cell_type": "markdown",
   "metadata": {},
   "source": [
    "![alt text](IMG_5264.JPG \"\")"
   ]
  },
  {
   "cell_type": "markdown",
   "metadata": {},
   "source": [
    "### FIG 1    \n",
    "Heat controller sensor input resoldered and with heat shrink tubing using heat gun."
   ]
  },
  {
   "cell_type": "markdown",
   "metadata": {},
   "source": [
    "![alt text](IMG_5257.JPG \"\")"
   ]
  },
  {
   "cell_type": "markdown",
   "metadata": {},
   "source": [
    "### FIG 2    \n",
    "Cryostat Chamber top flange circular feedthrough resoldered and heat shrink tuping applied with heat gun."
   ]
  },
  {
   "cell_type": "markdown",
   "metadata": {},
   "source": [
    "# 2. AI Profile Manifold"
   ]
  },
  {
   "cell_type": "markdown",
   "metadata": {},
   "source": [
    "![alt text](setup.PNG \"\")"
   ]
  },
  {
   "cell_type": "markdown",
   "metadata": {},
   "source": [
    "### FIG 3    \n",
    "LTS-22 Manual setup diagram for cryostat refrigerator system."
   ]
  },
  {
   "cell_type": "markdown",
   "metadata": {},
   "source": [
    "![alt text](IMG_5261.JPG \"\")"
   ]
  },
  {
   "cell_type": "markdown",
   "metadata": {},
   "source": [
    "### FIG 4    \n",
    "The final setup result as of this semester's research."
   ]
  },
  {
   "cell_type": "markdown",
   "metadata": {},
   "source": [
    "# 4. Leak Test"
   ]
  },
  {
   "cell_type": "markdown",
   "metadata": {},
   "source": [
    "![alt text](Xeline2.PNG \"\")"
   ]
  },
  {
   "cell_type": "markdown",
   "metadata": {},
   "source": [
    "### FIG 5\n",
    "When reconnecting to turbo pump and letting pump down to vacuum over night, the mass sweep indicated a vacuum leak and it was found to be on the VCR blank on the xenon line flange.  This was solved by then  replacing the gasket in use and improving said connection."
   ]
  },
  {
   "cell_type": "markdown",
   "metadata": {},
   "source": [
    "![alt text](RGA_HELIUM_BASELINE.PNG \"\")"
   ]
  },
  {
   "cell_type": "markdown",
   "metadata": {},
   "source": [
    "### FIG 6\n",
    "Upon fixing this leak the leak rate returned to the above Helium line baseline."
   ]
  },
  {
   "cell_type": "markdown",
   "metadata": {},
   "source": [
    "# 3. Vacuum"
   ]
  },
  {
   "cell_type": "markdown",
   "metadata": {},
   "source": [
    "![alt text](RGA.PNG \"\")"
   ]
  },
  {
   "cell_type": "markdown",
   "metadata": {},
   "source": [
    "### FIG 7\n",
    "The above RGA measurement yields a total system pressure of $2 \\cdot 10^{-6} torr$.  This value will continue to drop as the system which was out of vacuum for a long time and then taken out again during the leak test, is pumped down to its vacuum value.  The RGA measurement depicted here has yet to bottom out at a final pressure but after fixing the leak it was below the necessary vacuum presuures for the coldhead system ($1 \\cdot 10^{-3} torr$) and the partial pressure of water vapor ($1 \\cdot 10^{-5} torr$)."
   ]
  },
  {
   "cell_type": "markdown",
   "metadata": {},
   "source": [
    "![alt text](RGA_12_14_12.PNG \"\")"
   ]
  },
  {
   "cell_type": "markdown",
   "metadata": {},
   "source": [
    "### FIG 8\n",
    "This is the final RGA measuremnt made last semester during leak testing for reference.  The total pressure here sits at a bottom value of $9 \\cdot 10^{-7} torr$.  The now cleaned cryostat chamber will most assuredly bottom out at an even lower final pressure."
   ]
  },
  {
   "cell_type": "markdown",
   "metadata": {},
   "source": [
    "# 5. Cool Down"
   ]
  },
  {
   "cell_type": "markdown",
   "metadata": {},
   "source": [
    "![alt text](IMG_5267.JPG \"\")"
   ]
  },
  {
   "cell_type": "markdown",
   "metadata": {},
   "source": [
    "![alt text](IMG_5268.JPG \"\")"
   ]
  },
  {
   "cell_type": "markdown",
   "metadata": {},
   "source": [
    "![alt text](IMG_5263.JPG \"\")"
   ]
  },
  {
   "cell_type": "markdown",
   "metadata": {},
   "source": [
    "### FIG 9\n",
    "The Compressor was filled with helium using the new copper tubing flanging tool and filled to 255 psi per the LTS-22 Manual.  Then the helium supply and return self coupling lines were connected to the compressor and run through the alcolve to the main room and attached to the coldhead.  The pressure in the compressor dropped significantly from order 250 psi to 150 psi after attaching the helium lines.  This based on the manual descriptions and procedure seems to be an inherant step of powering the coldhead."
   ]
  },
  {
   "cell_type": "markdown",
   "metadata": {},
   "source": [
    "Unfortunately a cool down test was not able to be performed.  The manual explicitly say that a cooldown test shown not be attempted if the sensor is not properly callibrated.  At room temperature the silicon diode was reading a temperature of 428 K or 155 C which is far from the desired readout of 298 K or 25 C.  This could be a result of the sensor being currently setup with a calibration curve for low temperature and hence the reading is off, but the only way to check that seems to be to cooldown the system which it is said not to do without the sensor already being propoerly calibrated.  Further inquisition into the prior calibration of this system or a way to test that is necessary in order to perform said cooldown test."
   ]
  },
  {
   "cell_type": "markdown",
   "metadata": {},
   "source": [
    "# 6. Pressure Transducer"
   ]
  },
  {
   "cell_type": "markdown",
   "metadata": {},
   "source": [
    "Recieved quotes for both MKS manometer as well as swagelok VCR connectors. Attached to this weeks report page."
   ]
  },
  {
   "attachments": {},
   "cell_type": "markdown",
   "metadata": {},
   "source": [
    "![alt text](Manometer.PNG \"\")"
   ]
  },
  {
   "cell_type": "markdown",
   "metadata": {},
   "source": [
    "### FIG 10\n",
    "Quote for the 226A Capacitance Manometer for use in the differential pressure measurement."
   ]
  },
  {
   "attachments": {},
   "cell_type": "markdown",
   "metadata": {},
   "source": [
    "![alt text](Connect.PNG \"\")"
   ]
  },
  {
   "cell_type": "markdown",
   "metadata": {},
   "source": [
    "### FIG 11\n",
    "Quote for VCR connectors to attach 1/4\" manometer fittings to our 1/2\" system."
   ]
  },
  {
   "cell_type": "markdown",
   "metadata": {},
   "source": [
    "## Next Steps\n",
    "1. Aquire more information on calibration of heat controller to perform cooldown test.\n",
    "2. Follow up with Forrest on inner cryostat pieces on a timescale such that they are ready by the time the pressure sensors arrive."
   ]
  }
 ],
 "metadata": {
  "kernelspec": {
   "display_name": "Python 3",
   "language": "python",
   "name": "python3"
  },
  "language_info": {
   "codemirror_mode": {
    "name": "ipython",
    "version": 3
   },
   "file_extension": ".py",
   "mimetype": "text/x-python",
   "name": "python",
   "nbconvert_exporter": "python",
   "pygments_lexer": "ipython3",
   "version": "3.6.3"
  }
 },
 "nbformat": 4,
 "nbformat_minor": 2
}
