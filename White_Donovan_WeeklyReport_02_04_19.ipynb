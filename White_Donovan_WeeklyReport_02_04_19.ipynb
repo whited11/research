{
 "cells": [
  {
   "cell_type": "markdown",
   "metadata": {},
   "source": [
    "### Donovan White\n",
    "### Undergraduate Research\n",
    "### Weekly Report\n",
    "### February 4th, 2019"
   ]
  },
  {
   "cell_type": "markdown",
   "metadata": {},
   "source": [
    "## Introduction"
   ]
  },
  {
   "cell_type": "markdown",
   "metadata": {},
   "source": [
    "The goal of this week's research were:\n",
    "1. Finish Xenon Poster, print, and display in hallway\n",
    "2. Clean up wire diagram of cryostat\n",
    "3. Test potential heating components on cold finger\n",
    "4. Begin compiling parts list\n",
    "5. McMaster Order\n",
    "6. Powerline Install\n",
    "\n",
    "Progress was made this week, in completion of the poster.  It was printed and put up in the first floor hallway of JRowl.  A cleaner version of the inner cryostat electronics diagram was made.  Specific parts were researched, and order lists compiled.  The potential pre-existing heating components on the coldfinger were tested to determine their identity and purpose."
   ]
  },
  {
   "cell_type": "markdown",
   "metadata": {},
   "source": [
    "## Results"
   ]
  },
  {
   "cell_type": "markdown",
   "metadata": {},
   "source": [
    "# 1. Poster"
   ]
  },
  {
   "cell_type": "markdown",
   "metadata": {},
   "source": [
    "The poster is completed and was printed.  It is up in the hallway now, though it would seem our spot was moved."
   ]
  },
  {
   "cell_type": "markdown",
   "metadata": {},
   "source": [
    "# 2. Diagram"
   ]
  },
  {
   "cell_type": "markdown",
   "metadata": {},
   "source": [
    "![alt text](detector_section_view _labeled.png \"\")"
   ]
  },
  {
   "cell_type": "markdown",
   "metadata": {},
   "source": [
    "### FIG 1      \n",
    "Cleaned up wiring diagram of electronics within inner cryostat.  One of the temperature sensors wilol be for the liquid and the other for the gas.  May need to change number of leads as will be mentioned later."
   ]
  },
  {
   "cell_type": "markdown",
   "metadata": {},
   "source": [
    "# 3. Resistance Test"
   ]
  },
  {
   "cell_type": "markdown",
   "metadata": {},
   "source": [
    "![alt text](IMG_4793.JPG \"\")"
   ]
  },
  {
   "cell_type": "markdown",
   "metadata": {},
   "source": [
    "### FIG 2      \n",
    "We set up a digital multimeter to the proper leads in the feedthrough to measure the respective change in resistance of the potential heater and temperature sensor on the coldfinger, due to the heatgun (far right)."
   ]
  },
  {
   "cell_type": "markdown",
   "metadata": {},
   "source": [
    "![alt text](IMG_4795.JPG \"\")"
   ]
  },
  {
   "cell_type": "markdown",
   "metadata": {},
   "source": [
    "### FIG 3      \n",
    "The potential heater shown here wrapped around the tip of the coldfinger measured an initial resitance of R = 40.3 Ohm.  After the heat gun was applied this increased to 40.7 Ohm.  With the configuration and this result we concluded that the elemet in question is a heater."
   ]
  },
  {
   "cell_type": "markdown",
   "metadata": {},
   "source": [
    "![alt text](IMG_4796.JPG \"\")"
   ]
  },
  {
   "cell_type": "markdown",
   "metadata": {},
   "source": [
    "### FIG 4      \n",
    "The potential temperature sensor measured a resistance of R = 3.463 MOhm.  Upon heating this dropped to 3.41 MOhm and then began to oscillate slightly about the initial resistance yielding an inconclusive result.  Upon consultation with Professor Persans, it was suggested that the element in question is a silicon diode temperature sensor."
   ]
  },
  {
   "cell_type": "markdown",
   "metadata": {},
   "source": [
    "![alt text](CU3.PNG \"\")"
   ]
  },
  {
   "cell_type": "markdown",
   "metadata": {},
   "source": [
    "### FIG 5      \n",
    "Upon research of these temperature sensors, some models were found easily that match the element on the cold finger.  "
   ]
  },
  {
   "cell_type": "markdown",
   "metadata": {},
   "source": [
    "![alt text](CU2.PNG \"\")"
   ]
  },
  {
   "cell_type": "markdown",
   "metadata": {},
   "source": [
    "### FIG 6      \n",
    "In particular this model matches the most with the particular sensor on the finger."
   ]
  },
  {
   "cell_type": "markdown",
   "metadata": {},
   "source": [
    "![alt text](CU.PNG \"\")"
   ]
  },
  {
   "cell_type": "markdown",
   "metadata": {},
   "source": [
    "### FIG 7      \n",
    "The spec diagram given also matches with the sensor including the four leads."
   ]
  },
  {
   "cell_type": "markdown",
   "metadata": {},
   "source": [
    "![alt text](lead.PNG \"\")"
   ]
  },
  {
   "cell_type": "markdown",
   "metadata": {},
   "source": [
    "### FIG 8      \n",
    "And finally a description of how to wire these four leads for measurements was also given on the site.  This sensor therefore can be used as is for our needs.  Some wires must be resoldered to the feedthrough however."
   ]
  },
  {
   "cell_type": "markdown",
   "metadata": {},
   "source": [
    "# 4. Parts List"
   ]
  },
  {
   "cell_type": "markdown",
   "metadata": {},
   "source": [
    "![alt text](IMG_4797.JPG \"\")"
   ]
  },
  {
   "cell_type": "markdown",
   "metadata": {},
   "source": [
    "### FIG 9      \n",
    "I was tasked with researching how the sensor inputs are attached to the control unit.  The model is the rmc / Boeckeler Cryosystem 4025 Series 4000 Cryogenic Temperature Contoller.  Unfortunately i was not able to find the model on the manufacturers site."
   ]
  },
  {
   "cell_type": "markdown",
   "metadata": {},
   "source": [
    "![alt text](rmc.PNG \"\")"
   ]
  },
  {
   "cell_type": "markdown",
   "metadata": {},
   "source": [
    "### FIG 10      \n",
    "However, I was able to find it on other sites, but again with no manual.  This one however had a description of the input and outputs available on the device.  The analog socket is for output and the input is a DB37 connector."
   ]
  },
  {
   "cell_type": "markdown",
   "metadata": {},
   "source": [
    "![alt text](solder.PNG \"\")"
   ]
  },
  {
   "cell_type": "markdown",
   "metadata": {},
   "source": [
    "### FIG 11      \n",
    "In order to wire our cryostat sensors to the controller we would most likely need a solder connector."
   ]
  },
  {
   "cell_type": "markdown",
   "metadata": {},
   "source": [
    "![alt text](db.PNg \"\")"
   ]
  },
  {
   "cell_type": "markdown",
   "metadata": {},
   "source": [
    "### FIG 12   \n",
    "Alternatively crimp pins can be used as opposed to soldering."
   ]
  },
  {
   "cell_type": "markdown",
   "metadata": {},
   "source": [
    "![alt text](pinout.gif \"\")"
   ]
  },
  {
   "cell_type": "markdown",
   "metadata": {},
   "source": [
    "### FIG 13\n",
    "Here is one pinout diagram for the connector, however the manual for the rmc cryosystems controller may have a more specific version."
   ]
  },
  {
   "cell_type": "markdown",
   "metadata": {},
   "source": [
    "![alt text](CF16.PNG \"\")"
   ]
  },
  {
   "cell_type": "markdown",
   "metadata": {},
   "source": [
    "### FIG 14\n",
    "\n",
    "In addition to the rmc controller, a CF16 feedthrough is needed for the interior cryostat electronics.  The only availble option on Lesker is only 9 pins, which would require the use of two lead temperature sensors as opposed to four."
   ]
  },
  {
   "cell_type": "markdown",
   "metadata": {},
   "source": [
    "![alt text](pins.PNG \"\")"
   ]
  },
  {
   "cell_type": "markdown",
   "metadata": {},
   "source": [
    "### FIG 15   \n",
    "Here is the design drawing of the feedthrough in the above order sheet.  Can look for other options as well."
   ]
  },
  {
   "cell_type": "markdown",
   "metadata": {},
   "source": [
    "# 5. McMaster Order"
   ]
  },
  {
   "cell_type": "markdown",
   "metadata": {},
   "source": [
    "![alt text](order.PNG \"\")"
   ]
  },
  {
   "cell_type": "markdown",
   "metadata": {},
   "source": [
    "### FIG 16 \n",
    "Order containing a replacemt screw for the broken one, and the screw remover.  Want to double check measurements and that there are not extras laying around in the lab before order."
   ]
  },
  {
   "cell_type": "markdown",
   "metadata": {},
   "source": [
    "![alt text](low.PNG \"\")"
   ]
  },
  {
   "cell_type": "markdown",
   "metadata": {},
   "source": [
    "### FIG 17   \n",
    "These are the only fitting hex bolts for under the coldhead body to replace current rustly flathead bolts.  Black oxide finish versus non metric, can search for more alternatives."
   ]
  },
  {
   "cell_type": "markdown",
   "metadata": {},
   "source": [
    "# 6. Powerline Install"
   ]
  },
  {
   "cell_type": "markdown",
   "metadata": {},
   "source": [
    "Waiting for email response still"
   ]
  },
  {
   "cell_type": "markdown",
   "metadata": {},
   "source": [
    "## Next Steps\n",
    "1. Follow up on powerline install.\n",
    "2. Check lab for pressure sensors needed (Leaf said we do not have the pressure transducers needed).\n",
    "3. Compile formal table of quotes and orders of parts needed. [interior temperature sensors gas and liquid(Bud) / exterior temperature sensor on copper piece(Bud) / differential pressure gauge(get quotes) / pressure transducers x2 5-10 bar range (order?) / 50 Ohm vacuum wire (measure length needed) Coated / RTD controller connections]\n"
   ]
  }
 ],
 "metadata": {
  "kernelspec": {
   "display_name": "Python 3",
   "language": "python",
   "name": "python3"
  },
  "language_info": {
   "codemirror_mode": {
    "name": "ipython",
    "version": 3
   },
   "file_extension": ".py",
   "mimetype": "text/x-python",
   "name": "python",
   "nbconvert_exporter": "python",
   "pygments_lexer": "ipython3",
   "version": "3.6.3"
  }
 },
 "nbformat": 4,
 "nbformat_minor": 2
}
