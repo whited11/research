{
 "cells": [
  {
   "cell_type": "markdown",
   "metadata": {},
   "source": [
    "### Donovan White\n",
    "### Undergraduate Research\n",
    "### Weekly Report\n",
    "### March 18th, 2019"
   ]
  },
  {
   "cell_type": "markdown",
   "metadata": {},
   "source": [
    "## Introduction"
   ]
  },
  {
   "cell_type": "markdown",
   "metadata": {},
   "source": [
    "The goal of this week's research were:\n",
    "1. Solder and Bottle training\n",
    "2. Clear space in dust-free room\n",
    "3. Clean Parts with high school student\n",
    "4. Compressor Power\n",
    "5. Swagelock Pressure Transducers\n",
    "\n",
    "Progress was made in completion of training, the search for pressure sensors, and completion of cleaning.  The Next steps will begin as orders start coming in, and assembly is on the horizon."
   ]
  },
  {
   "cell_type": "markdown",
   "metadata": {},
   "source": [
    "## Results"
   ]
  },
  {
   "cell_type": "markdown",
   "metadata": {},
   "source": [
    "# 1. Training"
   ]
  },
  {
   "cell_type": "markdown",
   "metadata": {},
   "source": [
    "Kelly led Bud and I through some soldering training.  Practiced soldering first just wires, and then wires to solder cups as will apply to our connectors.  Practiced with large wires and then thin wires as we will be using both.  Then in addition Bud recived bottle training which served as a review for me as well.  We are out of helium and will need to order more to power the compressor as discussed below."
   ]
  },
  {
   "cell_type": "markdown",
   "metadata": {},
   "source": [
    "# 2. Dust Free Room"
   ]
  },
  {
   "cell_type": "markdown",
   "metadata": {},
   "source": [
    "Cleared space in the dust free room for cryostat parts once they are cleaned.  Q drive and valves wrapped with aluminum and then moved to locker in pump room as instructed, everything else just consolidated and tidied up. Cleaned parts are now wrapped with aluminum with gaskets also in caps and ready for assembly once parts arrive."
   ]
  },
  {
   "cell_type": "markdown",
   "metadata": {},
   "source": [
    "# 3. Cleaning"
   ]
  },
  {
   "cell_type": "markdown",
   "metadata": {},
   "source": [
    "Spent the vast majority of time this week cleaning the parts of the disassembled cryostat.  Also on Friday, the visiting high school student helped with this cleaning using both the ultrasonic, as well as rubbing down with ethanol.  All of the parts are cleaned and stored in the dust-free room now, with the exception of the main exterior body of the cryostat chamber.  Kelly mentioned being able to put these in the big ultrasonic.  If not they can be cleaned with just ethanol.\n",
    "\n",
    "The high school student did a good job and was very helpful in speeding up the cleaning process, and allowing me more time to adrees other research priorities.  We worked from noon till 3 PM.  I then guest swiped him into sage dining hall for lunch, and then he worked with me and Bud until I had to leave and then with just Bud until 5 PM."
   ]
  },
  {
   "cell_type": "markdown",
   "metadata": {},
   "source": [
    "# 4. Power"
   ]
  },
  {
   "cell_type": "markdown",
   "metadata": {},
   "source": [
    "The Compressor He Fill line is a 15 mm NPT connection which we have acess to in the lab and can then power with the new helium that comes in.  The powering instructions are in the manual recived from Janis Engineering.  There seems to be some helium still in the compressor, as the pressure is at ~70 psi.  In addition the McMaster order placed (differ to Bud), should contain the necessary connections for the waterlines.  Need to check pressure requiremnt of powering the compressor to see if we need to use a metal tube or not.  "
   ]
  },
  {
   "cell_type": "markdown",
   "metadata": {},
   "source": [
    "# 5. Pressure Transducers"
   ]
  },
  {
   "cell_type": "markdown",
   "metadata": {},
   "source": [
    "![alt text](swag.PNG \"\")"
   ]
  },
  {
   "cell_type": "markdown",
   "metadata": {},
   "source": [
    "We determined that we need 2 of the WU-20 Single End pressure transducers from swagelok.  The particular order we will request a quote for will be the WU-20-GZ-BV410-71ZZ-9SZC-ZZ.  The specs for this would be \n",
    "\n",
    "Single end process connection;\n",
    "\n",
    "0-5 V, 3 wire signal output;\n",
    "\n",
    "bar units;\n",
    "\n",
    "compound pressure(allows for negative bar range);\n",
    "\n",
    "-1 to +9 bar gauge pressure range;\n",
    "\n",
    "male VCR process connection quarter inch;\n",
    "\n",
    "no outlet process connection(think this wopuld be for flowthrough type);\n",
    "\n",
    "9 pin sub D connector(the type we currently have);\n",
    "\n",
    "without cable;\n",
    "\n",
    "without quality certificates(did not know if we need these);\n",
    "\n",
    "without additional text(\"\")\n",
    "\n",
    "\n",
    "\n",
    "Unfortunately the flowthrough pressure transducer WU-25 does not hyave the resaolution we need.  They have 8 millibar precission (0.4% of 2 bar range) and we need 0.3 millibar precision to see a mm change in height.  Will request quote for two single end transducers, and inquire about flowthrough transducer options.  Is there a brief way to explain the purpose of the flowthrough transducer measurement in a way that might help them find what will work for us.  Want to make sure they understand fully what we need. (Also where do the pressure sensors go exactly on the cryostat?)\n"
   ]
  },
  {
   "cell_type": "markdown",
   "metadata": {},
   "source": [
    "## Next Steps\n",
    "1. Request formal quote from swagelok\n",
    "2. Resolder coldfinger sensors to feedthrough (new solder tips from McMaster)\n",
    "3. Remove screw from flange and low profile screws (McMaster)\n",
    "4. Attaching levelmeter to TPC (other adjustment for pre Assembly)\n",
    "5. Begin Assembly (Clean room suits from McMaster)"
   ]
  }
 ],
 "metadata": {
  "kernelspec": {
   "display_name": "Python 3",
   "language": "python",
   "name": "python3"
  },
  "language_info": {
   "codemirror_mode": {
    "name": "ipython",
    "version": 3
   },
   "file_extension": ".py",
   "mimetype": "text/x-python",
   "name": "python",
   "nbconvert_exporter": "python",
   "pygments_lexer": "ipython3",
   "version": "3.6.3"
  }
 },
 "nbformat": 4,
 "nbformat_minor": 2
}
