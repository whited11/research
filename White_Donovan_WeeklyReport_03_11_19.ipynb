{
 "cells": [
  {
   "cell_type": "markdown",
   "metadata": {},
   "source": [
    "### Donovan White\n",
    "### Undergraduate Research\n",
    "### Weekly Report\n",
    "### March 11th, 2019"
   ]
  },
  {
   "cell_type": "markdown",
   "metadata": {},
   "source": [
    "## Introduction"
   ]
  },
  {
   "cell_type": "markdown",
   "metadata": {},
   "source": [
    "The goal of this week's research were:\n",
    "1. Female feedthrough plug and male solder cup connector on digikey\n",
    "2. Final Lesker order\n",
    "3. RMC follow up\n",
    "4. Heat controller tests\n",
    "5. Swagelok Pressure Transducers\n",
    "\n",
    "Progress was made in completion of search for female feedthrough plug and male connector on digikey.  More research was done for wire pricing, and swagelok responded about the pressure trandsducers. All parts order were placed on wiki except for the Pressure transducers.  Progress was made in testing out the heat controller with information aquired before break from Janis engineering."
   ]
  },
  {
   "cell_type": "markdown",
   "metadata": {},
   "source": [
    "## Results"
   ]
  },
  {
   "cell_type": "markdown",
   "metadata": {},
   "source": [
    "# 1. Digikey Order"
   ]
  },
  {
   "cell_type": "markdown",
   "metadata": {},
   "source": [
    "![alt text](digikey.PNG \"\")"
   ]
  },
  {
   "cell_type": "markdown",
   "metadata": {},
   "source": [
    "### FIG 1     \n",
    "Order for heat sensors as well as sub C solder female connector for top flange vacuum feedthrough, solder connector for RMC controller.  This is the proper connection for the feedthrough (size 12 shell, 10 pin layout female socket plug with soldering termination)."
   ]
  },
  {
   "cell_type": "markdown",
   "metadata": {},
   "source": [
    "# 2. Lesker Order"
   ]
  },
  {
   "cell_type": "markdown",
   "metadata": {},
   "source": [
    "Checked agin on Lesker, and price for Kapton Coated Coax Multistrand vacuum wire in size 79 inches still listed as price on request.  Lesker will contact and give price upon placing of the order and will ask for confirmation of the then finalized order."
   ]
  },
  {
   "cell_type": "markdown",
   "metadata": {},
   "source": [
    "Decision made to order the size just above our estimate."
   ]
  },
  {
   "cell_type": "markdown",
   "metadata": {},
   "source": [
    "![alt text](lesker.PNG \"\")"
   ]
  },
  {
   "cell_type": "markdown",
   "metadata": {},
   "source": [
    "### FIG 2      \n",
    "Order from Lesker for CF16 feedthrough and 50 ohm Vacuum wire."
   ]
  },
  {
   "cell_type": "markdown",
   "metadata": {},
   "source": [
    "# 3. RMC followup"
   ]
  },
  {
   "cell_type": "markdown",
   "metadata": {},
   "source": [
    "Recived lots of information from Janis Engineering, who took over from RMC.  This included a pin diagram for the sensor inputs as well as confirmation of which colored wires are for which input from diode sensor.  In adiition there are inspection and installation instructions along with wiring details.  there are also tables for calibration of sensors."
   ]
  },
  {
   "cell_type": "markdown",
   "metadata": {},
   "source": [
    "![alt text](Wiring.PNG \"\")"
   ]
  },
  {
   "cell_type": "markdown",
   "metadata": {},
   "source": [
    "### FIG 3      \n",
    "Table with wiring pinout for sensors on colodfinger connected to sensor input on heat controller."
   ]
  },
  {
   "cell_type": "markdown",
   "metadata": {},
   "source": [
    "# 4. Heat Controller Tests"
   ]
  },
  {
   "cell_type": "markdown",
   "metadata": {},
   "source": [
    "Sucessfully have heater output working, struggling to get any change in display from signal input using silicon diode sensor even with correct pin diagram.  Hoping this will be easier with the male solder cup from digikey.  Goal this week is to get the display to register the sensor and if so then use the heater to change the sensor reading.  The next step after that will be sensor calibration."
   ]
  },
  {
   "cell_type": "markdown",
   "metadata": {},
   "source": [
    "# 5. Pressure Transducers"
   ]
  },
  {
   "cell_type": "markdown",
   "metadata": {},
   "source": [
    "Contacted both swagelok site and swagelok in Albany for a quote on two of their pressure transducers.\n",
    "\n",
    "Forwarded email response with two datasheets of transducers that match our specification but have 1/4 inch VCR connections.  Can send back which one we want a quote for.\n",
    "\n",
    "Would like to respond to them soon with what we need, and either need that decision or to meet to make sure I have the information to make that decision."
   ]
  },
  {
   "cell_type": "markdown",
   "metadata": {},
   "source": [
    "## Next Steps\n",
    "1. Request formal quote from swagelok\n",
    "2. Test heat controller sensor inputs\n",
    "3. Remove screw from flange\n",
    "4. Arduino for sensor control"
   ]
  }
 ],
 "metadata": {
  "kernelspec": {
   "display_name": "Python 3",
   "language": "python",
   "name": "python3"
  },
  "language_info": {
   "codemirror_mode": {
    "name": "ipython",
    "version": 3
   },
   "file_extension": ".py",
   "mimetype": "text/x-python",
   "name": "python",
   "nbconvert_exporter": "python",
   "pygments_lexer": "ipython3",
   "version": "3.6.3"
  }
 },
 "nbformat": 4,
 "nbformat_minor": 2
}
